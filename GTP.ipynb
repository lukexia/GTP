{
 "cells": [
  {
   "cell_type": "markdown",
   "metadata": {},
   "source": [
    "simple arithmetic\n",
    "\n",
    "    total = G + T + P\n",
    "    feet = 2 * G + 4 * T + 8 * P\n",
    "    tails = T\n",
    "    P = (feet - 2 * tails - 2 * total) / 6"
   ]
  },
  {
   "cell_type": "code",
   "execution_count": 1,
   "metadata": {
    "collapsed": true
   },
   "outputs": [],
   "source": [
    "def getGTP(total, feet, tails):\n",
    "    try:\n",
    "        total = int(total)\n",
    "        feet = int(feet)\n",
    "        tails = int(tails)\n",
    "    except ValueError:\n",
    "        print('enter non-negtive integers of total feet tails')\n",
    "    \n",
    "    if total < 0: print('enter non-negative total')\n",
    "    if feet < 0: print('enter non-negative feet')\n",
    "    if tails < 0: print('enter non-negative tails')\n",
    "    _ = feet - 2 * tails - 2 * total\n",
    "    if _ % 6:  # residue not zero\n",
    "        P = 0\n",
    "        T = 0\n",
    "        G = 0\n",
    "    else:\n",
    "        P = int(_ / 6)\n",
    "        T = tails\n",
    "        G = total - T - P\n",
    "    \n",
    "    return G, T, P\n",
    "                "
   ]
  },
  {
   "cell_type": "code",
   "execution_count": 2,
   "metadata": {
    "collapsed": false
   },
   "outputs": [
    {
     "data": {
      "text/plain": [
       "(1, 2, 1)"
      ]
     },
     "execution_count": 2,
     "metadata": {},
     "output_type": "execute_result"
    }
   ],
   "source": [
    "getGTP(4, 18, 2)"
   ]
  },
  {
   "cell_type": "code",
   "execution_count": null,
   "metadata": {
    "collapsed": true
   },
   "outputs": [],
   "source": []
  }
 ],
 "metadata": {
  "kernelspec": {
   "display_name": "Python 3",
   "language": "python",
   "name": "python3"
  },
  "language_info": {
   "codemirror_mode": {
    "name": "ipython",
    "version": 3
   },
   "file_extension": ".py",
   "mimetype": "text/x-python",
   "name": "python",
   "nbconvert_exporter": "python",
   "pygments_lexer": "ipython3",
   "version": "3.5.2"
  }
 },
 "nbformat": 4,
 "nbformat_minor": 1
}
